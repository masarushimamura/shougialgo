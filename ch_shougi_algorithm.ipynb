{
 "cells": [
  {
   "cell_type": "markdown",
   "metadata": {},
   "source": [
    "# もうこれは使っちゃダメ.pyファイルの方が最新\n",
    "\n",
    "# すべきこと1/14\n",
    " selectway第３引数を変化させた時のバグ　\n",
    " 成りこまの動き先、重み\n",
    " 飛車角香車の無限に進めるやつ\n",
    " "
   ]
  },
  {
   "cell_type": "code",
   "execution_count": 79,
   "metadata": {
    "collapsed": true
   },
   "outputs": [],
   "source": [
    "# %load shougi_algorithm.py\n",
    "\n",
    "\n",
    "# # 仕組み\n",
    "# 1、評価と選定\n",
    "# ３要素（駒の価値、成るまでの距離、王（玉）までの距離　）でどの駒\n",
    "\n",
    "# # 各オブジェクト説明\n",
    "# \n",
    "# kind = {0: \"ou\",  1: \"gyoku\",  2: \"hisha\",  3: \"kaku\", 4: \"kin\",  5: \"gin\",  6: \"keima\",  7: \"kyousha\",\n",
    "#  8: \"hu\"}　#駒の種類を特定 （自分は王、相手は玉）\n",
    "# \n",
    "# way = {\"ou\": [[-1,  1],  [0,  1],  [1,  1],  [1,  0],  [1,  -1],  [0,  -1],  [-1,  -1],  [-1,  0]],  \n",
    "#        \"gyoku\": [[-1,  1],  [0,  1],  [1,  1],  [1,  0],  [1,  -1],  [0,  -1],  [-1,  -1],  [-1,  0]],  \n",
    "#        \"hisha\": [[-1,  0],  [0,  1],  [1,  0],  [0,  -1]],  \n",
    "#        \"kaku\": [[-1,  1],  [1,  1],  [1,  -1],  [-1,  -1]],  \n",
    "#        \"kin\": [[-1,  1],  [0,  1],  [1,  1],  [1,  0],  [0,  -1],  [-1,  0]],  \n",
    "#        \"gin\": [[-1,  1],  [0,  1],  [1,  1],  [1,  -1],  [-1,  -1]],  \n",
    "#        \"keima\": [[-1,  2],  [1,  2]],  \n",
    "#        \"kyousha\": [[0,  1]],  \n",
    "#        \"hu\": [[0,  1]],  \n",
    "#        \"ryu\": [[-1,  1],  [0,  1],  [1,  1],  [1,  0],  [1,  -1],  [0,  -1],  [-1,  -1],  [-1,  0]],  \n",
    "#        \"uma\": [[-1,  1],  [0,  1],  [1,  1],  [1,  0],  [1,  -1],  [0,  -1],  [-1,  -1],  [-1,  0]], \n",
    "#       } #各駒の進む方向\n",
    "# \n",
    "# value_k = {\"ou\": [8,  8],  \"gyoku\": [8,  8],  \"hisha\": [12,  16],  \"kaku\": [12,  16], \"kin\": [6,  6],\n",
    "#  \"gin\": [5,  6],  \"keima\": [6,  6],\n",
    "# \"kyousha\": [3,  6],  \"hu\": [1,  6]} #各駒の評価係数\n",
    "# value_p = {\"first\": 1,  \"second\": 2,  \"third\": 3} #各列の評価係数（相手陣地に近いほど高い）\n",
    "# value_d = {\"first\": 2,  \"second\": 1} #王との距離の評価係数\n",
    "# end_f = 0 #対局終了フラグ\n",
    "# player = [0,  2,  4] #各プレーヤの持ち駒\n",
    "# computer = [3,  1,  6]\n",
    "# \n",
    "# stage = {0: [1,  0],  2: [0,  1],  4: [2,  0],  3: [0,  2],  1: [1,  2],  6: [2,  2]} #初期配置\n",
    "#"
   ]
  },
  {
   "cell_type": "code",
   "execution_count": 80,
   "metadata": {
    "collapsed": true
   },
   "outputs": [],
   "source": [
    "import numpy as np\n",
    "\n",
    "\n",
    "kind = {0:  \"ou\",  1:  \"gyoku\",  2:  \"hisha\",  3:  \"kaku\", 4:  \"kin\",  5:  \"gin\",  6: \"keima\",  7: \"kyousha\",  8: \"hu\"}\n",
    "\n",
    "way = {\"ou\": [[-1,  1],  [0,  1],  [1,  1],  [1,  0],  [1,  -1],  [0,  -1],  [-1,  -1],  [-1,  0]],  \n",
    "       \"gyoku\": [[-1,  1],  [0,  1],  [1,  1],  [1,  0],  [1,  -1],  [0,  -1],  [-1,  -1],  [-1,  0]],  \n",
    "       \"hisha\": [[-1,  0],  [0,  1],  [1,  0],  [0,  -1]],  \n",
    "       \"kaku\": [[-1,  1],  [1,  1],  [1,  -1],  [-1,  -1]],  \n",
    "       \"kin\": [[-1,  1],  [0,  1],  [1,  1],  [1,  0],  [0,  -1],  [-1,  0]],  \n",
    "       \"gin\": [[-1,  1],  [0,  1],  [1,  1],  [1,  -1],  [-1,  -1]],  \n",
    "       \"keima\": [[-1,  2],  [1,  2]],  \n",
    "       \"kyousha\": [[0,  1]],  \n",
    "       \"hu\": [[0,  1]],  \n",
    "       \"ryu\": [[-1,  1],  [0,  1],  [1,  1],  [1,  0],  [1,  -1],  [0,  -1],  [-1,  -1],  [-1,  0]],  \n",
    "       \"uma\": [[-1,  1],  [0,  1],  [1,  1],  [1,  0],  [1,  -1],  [0,  -1],  [-1,  -1],  [-1,  0]], \n",
    "      } \n",
    "\n",
    "value_k = {\"ou\": [8,  8],  \"gyoku\": [8,  8],  \"hisha\": [12,  16],  \"kaku\": [12,  16], \"kin\": [6,  6],  \"gin\": [5,  6],  \"keima\": [6,  6],  \"kyousha\": [3,  6],  \"hu\": [1,  6]}\n",
    "value_l = {\"first\": 1,  \"second\": 2,  \"third\": 3} \n",
    "value_d = {\"first\": 2,  \"second\": 1}\n",
    "end_f = 0\n",
    "\n",
    "# player = [0,  2,  4]  # 各プレーヤの持ち駒\n",
    "# computer = [3,  1,  6]\n",
    "# stage = {0: [1,  0],  2: [0,  1],  4: [2,  0],  3: [0,  2],  1: [1,  2],  6: [2,  2]}\n",
    "# 初期盤面（自分が下）後で自分とcpの駒の区別をつけられるようにしなきゃだめ"
   ]
  },
  {
   "cell_type": "code",
   "execution_count": 81,
   "metadata": {
    "collapsed": true
   },
   "outputs": [],
   "source": [
    "# 1,  cp, pl共に使う共通の評価関数。\n",
    "\n",
    "\n",
    "def rob(player,  nextpos,  stage):  # 相手プレーヤーの手持ちコマがplayerに入る\n",
    "    enemyplaces = {}\n",
    "    for i in player: \n",
    "        enemyplaces[i] = stage[i]\n",
    "    for i in enemyplaces.keys(): \n",
    "        if enemyplaces[i] == nextpos: \n",
    "            return i  # なんか0の駒（王）の時pythonだと0 = Falseみたいな感じで処理されるから数値そのままだとダメくさい。\n",
    "    return \"false\"  # 上のやつを変えるのめんどいからFalseの時文字列のfalseにした\n",
    "\n",
    "\n",
    "def evaluation_r(k,  l,  d,  r):  # 点数の合計をだすよ～\n",
    "    return value_k[kind[k]][0] + value_l[l] + value_d[d] + value_k[kind[r]][0]\n",
    "    # まだ成ることは考えてないよ～（value_k[kind[0]][0]の０のとこ）\n",
    "\n",
    "\n",
    "def evaluation_n(k,  l,  d):    # 点数の合計をだすよ～\n",
    "    return value_k[kind[k]][0] + value_l[l] + value_d[d]  # まだ成ることは考えてないよ～（value_k[kind[0]][0]の０のとこ）\n",
    "\n",
    "\n",
    "def lin(me):  # 列の点数を出すよ～\n",
    "    if me[1] == 2: \n",
    "        return \"third\"\n",
    "    elif me[1] == 1: \n",
    "        return \"second\"\n",
    "    elif me[1] == 0: \n",
    "        return \"first\"\n",
    "\n",
    "\n",
    "def dist(me,  king):  # 王までの距離の点数を出すよ～\n",
    "    dist = np.sqrt((king[0] - me[0]) ** 2 + (king[1] - me[1]) ** 2)\n",
    "    if dist < 2 : \n",
    "        return \"first\"\n",
    "    elif dist >= 2 and dist <= 4 : \n",
    "        return \"second\"\n",
    "\n",
    "\n",
    "def movedstage(tomovestage,  choices): \n",
    "    stageset = []\n",
    "    originstage = {}\n",
    "    for i in range(len(choices)): \n",
    "        for k,  v in tomovestage.items(): \n",
    "            originstage[k] = v\n",
    "        originstage[choices[i][1]] = choices[i][2]\n",
    "        stageset.append([choices[i][0],  originstage])\n",
    "        # print (originstage)\n",
    "    return stageset"
   ]
  },
  {
   "cell_type": "code",
   "execution_count": 95,
   "metadata": {
    "collapsed": false
   },
   "outputs": [],
   "source": [
    "# 2,  コンピュータの手をシミュレーションする関数\n",
    "\n",
    "\n",
    "def cp_simu(stage, player, computer):\n",
    "    points = []\n",
    "    for piece in computer:  # pieceを選択\n",
    "        # print(\"*piece=\",  piece)\n",
    "        for w in way[kind[piece]]:  # wayを選択\n",
    "            # print(\"way=\",  w)\n",
    "            reverse_w = list(map(lambda x:  x * -1,  w))\n",
    "            position = np.array(stage[piece])  # 選んだ駒の現在の座標\n",
    "            next_position = position + np.array(reverse_w)  # 進んだ先の座標\n",
    "            l_next_position = next_position.tolist()  # numpyの配列と標準のリストの形が違うからinとかやってもダメ臭い=>ndarray.tolist()使おうや\n",
    "            # print(list(map(lambda x: x >= 0 and x <= 2,  l_next_position)))\n",
    "            if all(map(lambda x: x >= 0 and x <= 2,  l_next_position)) == True:  # 進んだ先が盤面内に収まっているか\n",
    "                if l_next_position not in stage.values():  # 進んだ先に駒がなかった場合\n",
    "                    king_position = stage[0]  # 自分は王だから王のポジションを特定する:こっから\n",
    "                    line = str(lin(next_position))  # 列の評価係数(function_lin)\n",
    "                    # print(\"line=\",  line)\n",
    "                    distance = str(dist(l_next_position,  king_position))  # 距離の評価係数(function_dist)：ここまでは上のインデントの中に書かなきゃいけないのにそうするとエラーが出る（.pyファイルは直してる）\n",
    "                    # print(\"l_next_position=\",  l_next_position)\n",
    "                    # print(\"distance=\",  distance)\n",
    "                    point = evaluation_n(piece,  line,  distance)\n",
    "                    # print(\"*point=\",  point) #手の駒の能力×列×距離の点数(function_evaluation)\n",
    "                    points.append([point,  piece,  l_next_position])  # 動かした駒、動かした結果の評価点数、動かした場合その駒の位置\n",
    "                else: \n",
    "                    # print(\"もうおるやんけ！\")#進んだ先が相手の駒だった場合は点数加算＆駒の位置の得点も加算\n",
    "                    robable_piece = rob(player,  l_next_position,  stage) # 取れる駒の種類(function_rob)\n",
    "                    if robable_piece != \"false\": \n",
    "                        # 進んだ先の駒が敵駒だったばあい\n",
    "                        # print(\"robable_piece=\",  robable_piece)\n",
    "                        # print(\"line=\",  line)\n",
    "                        # print(\"l_next_position=\",  l_next_position)\n",
    "                        # print(\"distance=\",  distance)\n",
    "                        point = evaluation_r(piece,  line,  distance,  robable_piece)\n",
    "                        # print(\"*駒取った+point=\",  point) #手の駒の能力+列+距離の点数+取った駒の能力(function_evaluation)\n",
    "                        points.append([point,  piece,  l_next_position, \"robable_piece=\",  robable_piece])\n",
    "                        # 動かした結果の評価点数、動かした駒、動かした場合その駒の位置、手に入れた駒\n",
    "                    # else:\n",
    "                        # print(\"味方やんけ\")\n",
    "            # else:\n",
    "                # print(\"進めないよ\")\n",
    "    return points"
   ]
  },
  {
   "cell_type": "code",
   "execution_count": null,
   "metadata": {
    "collapsed": false
   },
   "outputs": [],
   "source": [
    "#print(cp_simu({0: [1, 0], 1: [1, 2], 3: [0, 2], 4: [2, 0], 6: [1, 0], 7: [0, 1]}, [4,  0,  7], [1,  3,  6]))"
   ]
  },
  {
   "cell_type": "code",
   "execution_count": null,
   "metadata": {
    "collapsed": false
   },
   "outputs": [],
   "source": [
    "# 3,  プレイヤーの手をシミュレートする関数\n",
    "\n",
    "\n",
    "def pl_simu(prestage,  player, computer):\n",
    "    points2 = []\n",
    "    stage = prestage\n",
    "    for piece in player:  # pieceを選択 ===> player をなくした場合はplayerのkeys()を見る\n",
    "        # print(\"*piece=\",  piece)\n",
    "        for w in way[kind[piece]]:  # wayを選択\n",
    "            # print(\"way=\",  w)\n",
    "            position = np.array(stage[piece])  # 選んだ駒の現在の座標\n",
    "            next_position = position + np.array(w)  # 進んだ先の座標\n",
    "            l_next_position = next_position.tolist()  # numpyの配列と標準のリストの形が違うからinとかやってもダメ臭い=>ndarray.tolist()使おうや\n",
    "            # print(list(map(lambda x: x >= 0 and x <= 2,  l_next_position)))\n",
    "            if all(map(lambda x: x >= 0 and x <= 2,  l_next_position)) == True:  # 進んだ先が盤面内に収まっているか\n",
    "                king_position = stage[1] # コンピュータは玉だから玉のポジションを特定する\n",
    "                line = str(lin(next_position))  # 列の評価係数(function_lin)\n",
    "                distance = str(dist(l_next_position,  king_position))  # 距離の評価係数(function_dist)\n",
    "                if l_next_position not in stage.values():  # 進んだ先に駒がなかった場合\n",
    "                    #上に動かしてみたking_position = stage[1] # コンピュータは玉だから玉のポジションを特定する\n",
    "                    #上に動かしてみたline = str(lin(next_position))  # 列の評価係数(function_lin)\n",
    "                    # print(\"line=\",  line)\n",
    "                    #上に動かしてみたdistance = str(dist(l_next_position,  king_position))  # 距離の評価係数(function_dist)\n",
    "                    # print(\"l_next_position=\",  l_next_position)\n",
    "                    # print(\"distance=\",  distance)\n",
    "                    point = evaluation_n(piece,  line,  distance)\n",
    "                    # print(\"*point=\",  point) #手の駒の能力×列×距離の点数(function_evaluation)\n",
    "                    points2.append([point,  piece,  l_next_position])  # 動かした駒、動かした結果の評価点数、動かした場合その駒の位置\n",
    "                else: \n",
    "                    # print(\"もうおるやんけ！\")#進んだ先が相手の駒だった場合は点数加算＆駒の位置の得点も加算\n",
    "                    robable_piece = rob(computer,  l_next_position,  stage)  # 取れる駒の種類(function_rob)\n",
    "                    if robable_piece != \"false\": \n",
    "                        # 進んだ先の駒が敵駒だったばあい\n",
    "                        # print(\"robable_piece=\",  robable_piece)\n",
    "                        # print(\"line=\",  line)\n",
    "                        # print(\"l_next_position=\",  l_next_position)\n",
    "                        # print(\"distance=\",  distance)\n",
    "                        point = evaluation_r(piece,  line,  distance,  robable_piece)\n",
    "                        # print(\"*駒取った+point=\",  point) #手の駒の能力+列+距離の点数+取った駒の能力(function_evaluation)\n",
    "                        points2.append([point,  piece,  l_next_position, \"robable_piece=\",  robable_piece])\n",
    "                        # 動かした結果の評価点数、動かした駒、動かした場合その駒の位置、手に入れた駒\n",
    "                    # else:\n",
    "                        # print(\"味方やんけ\")\n",
    "            # else:\n",
    "                # print(\"進めないよ\")\n",
    "    # print(\"points2=\",  points2)\n",
    "    return points2"
   ]
  },
  {
   "cell_type": "code",
   "execution_count": null,
   "metadata": {
    "collapsed": false
   },
   "outputs": [],
   "source": [
    "print(pl_simu({0: [1, 0], 1: [1, 2], 3: [0, 2], 4: [2, 0], 6: [1, 0], 7: [0, 1]}, [4,  0,  7], [1,  3,  6]))"
   ]
  },
  {
   "cell_type": "code",
   "execution_count": null,
   "metadata": {
    "collapsed": false
   },
   "outputs": [],
   "source": [
    "# 4,  コンピュータの手とその次のプレーヤーの手の評価をして、コンピュータはどの手を出せばいいのかを選ぶ関数。\n",
    "\n",
    "\n",
    "def selectway(stg, plr, cp):\n",
    "    cpways = movedstage(stg,  cp_simu(stg, plr, cp))\n",
    "    # print(\"cpways=\",  cpways)\n",
    "    finaly_points = []\n",
    "    for i in cpways: \n",
    "        plways = pl_simu(i[1],  plr, cp)\n",
    "        finaly_points.append(i[0] - max(plways)[0])\n",
    "        # print(\"plways=\",  plways)\n",
    "        # print(\"finaly_points=\",  finaly_points)\n",
    "    #print([i for i in cpways])\n",
    "    return([cp_simu(stg, plr, cp)[finaly_points.index(max(finaly_points))][1],   # 動かす駒と動かす先\n",
    "           cp_simu(stg, plr, cp)[finaly_points.index(max(finaly_points))][2]])"
   ]
  },
  {
   "cell_type": "code",
   "execution_count": null,
   "metadata": {
    "collapsed": false
   },
   "outputs": [],
   "source": [
    "selectway({0: [1, 0], 1: [1, 2], 3: [0, 2], 4: [2, 0], 6: [1, 0], 7: [0, 1]}, [4,  0,  7], [1,  3,  6])  #cp側の駒の順番を変えるとエラーが出る（種類も変えて検証するべき）"
   ]
  },
  {
   "cell_type": "code",
   "execution_count": null,
   "metadata": {
    "collapsed": false
   },
   "outputs": [],
   "source": [
    "p = {0:{0: [1, 0]},\n",
    "        1:{1: [1, 2]},\n",
    "        2:{6: [0, 2]},\n",
    "     }\n",
    "c = {3:{4: [2, 0]},\n",
    "        4:{6: [1, 0]},\n",
    "        5:{7: [0, 1]},\n",
    "     }\n",
    "\n",
    "#Cが2:6のコマを取って　Cが6:6として打つ\n",
    "\n",
    "p = {0:{0: [1, 0]},\n",
    "        1:{1: [1, 2]},\n",
    "     }\n",
    "        \n",
    "c = {3:{4: [2, 0]},\n",
    "        4:{6: [1, 0]},\n",
    "        5:{7: [0, 1]},\n",
    "        6:{6: [0, 2]},\n",
    "     }\n",
    "\n",
    "#[[0, 0], [5, 7], 4], [3,  1,  6]"
   ]
  }
 ],
 "metadata": {
  "anaconda-cloud": {},
  "kernelspec": {
   "display_name": "Python [conda root]",
   "language": "python",
   "name": "conda-root-py"
  },
  "language_info": {
   "codemirror_mode": {
    "name": "ipython",
    "version": 3
   },
   "file_extension": ".py",
   "mimetype": "text/x-python",
   "name": "python",
   "nbconvert_exporter": "python",
   "pygments_lexer": "ipython3",
   "version": "3.5.2"
  }
 },
 "nbformat": 4,
 "nbformat_minor": 0
}
