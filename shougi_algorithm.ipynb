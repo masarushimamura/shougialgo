{
 "cells": [
  {
   "cell_type": "markdown",
   "metadata": {},
   "source": [
    "# 仕組み\n",
    "1、評価と選定\n",
    "３要素（駒の価値、成るまでの距離、王（玉）までの距離　）でどの駒"
   ]
  },
  {
   "cell_type": "markdown",
   "metadata": {},
   "source": [
    "# 各オブジェクト説明\n",
    "\n",
    "kind = {0:\"ou\", 1:\"gyoku\", 2:\"hisha\", 3:\"kaku\",4:\"kin\", 5:\"gin\", 6:\"keima\", 7:\"kyousha\", 8:\"hu\"}　#駒の種類を特定 （自分は王、相手は玉）\n",
    "\n",
    "way = {\"ou\":[[-1, 1], [0, 1], [1, 1], [1, 0], [1, -1], [0, -1], [-1, -1], [-1, 0]], \n",
    "       \"gyoku\":[[-1, 1], [0, 1], [1, 1], [1, 0], [1, -1], [0, -1], [-1, -1], [-1, 0]], \n",
    "       \"hisha\":[[-1, 0], [0, 1], [1, 0], [0, -1]], \n",
    "       \"kaku\":[[-1, 1], [1, 1], [1, -1], [-1, -1]], \n",
    "       \"kin\":[[-1, 1], [0, 1], [1, 1], [1, 0], [0, -1], [-1, 0]], \n",
    "       \"gin\":[[-1, 1], [0, 1], [1, 1], [1, -1], [-1, -1]], \n",
    "       \"keima\":[[-1, 2], [1, 2]], \n",
    "       \"kyousha\":[[0, 1]], \n",
    "       \"hu\":[[0, 1]], \n",
    "       \"ryu\":[[-1, 1], [0, 1], [1, 1], [1, 0], [1, -1], [0, -1], [-1, -1], [-1, 0]], \n",
    "       \"uma\":[[-1, 1], [0, 1], [1, 1], [1, 0], [1, -1], [0, -1], [-1, -1], [-1, 0]],\n",
    "      } #各駒の進む方向\n",
    "\n",
    "value_k = {\"ou\":[8, 8], \"gyoku\":[8, 8], \"hisha\":[12, 16], \"kaku\":[12, 16],\"kin\":[6, 6], \"gin\":[5, 6], \"keima\":[6, 6], \"kyousha\":[3, 6], \"hu\":[1, 6]} #各駒の評価係数\n",
    "value_p = {\"first\":1, \"second\":2, \"third\":3} #各列の評価係数（相手陣地に近いほど高い）\n",
    "value_d = {\"first\":2, \"second\":1} #王との距離の評価係数\n",
    "end_f = 0 #対局終了フラグ\n",
    "player1 = [0, 2, 4] #各プレーヤの持ち駒\n",
    "player2 = [3, 1, 6]\n",
    "\n",
    "stage = {0:[1, 0], 2:[0, 1], 4:[2, 0], 3:[0, 2], 1:[1, 2], 6:[2, 2]} #初期配置\n"
   ]
  },
  {
   "cell_type": "markdown",
   "metadata": {},
   "source": [
    "# memo \n",
    "駒にプレイヤの識別タグ？を付けなければいけない\n",
    "将来DBに駒情報とかのパラメータを置くということを考えながら設計する。"
   ]
  },
  {
   "cell_type": "code",
   "execution_count": 62,
   "metadata": {
    "collapsed": true
   },
   "outputs": [],
   "source": [
    "import numpy as np"
   ]
  },
  {
   "cell_type": "code",
   "execution_count": 63,
   "metadata": {
    "collapsed": false,
    "scrolled": true
   },
   "outputs": [],
   "source": [
    "kind = {0:\"ou\", 1:\"gyoku\", 2:\"hisha\", 3:\"kaku\",4:\"kin\", 5:\"gin\", 6:\"keima\", 7:\"kyousha\", 8:\"hu\"}\n",
    "\n",
    "way = {\"ou\":[[-1, 1], [0, 1], [1, 1], [1, 0], [1, -1], [0, -1], [-1, -1], [-1, 0]], \n",
    "       \"gyoku\":[[-1, 1], [0, 1], [1, 1], [1, 0], [1, -1], [0, -1], [-1, -1], [-1, 0]], \n",
    "       \"hisha\":[[-1, 0], [0, 1], [1, 0], [0, -1]], \n",
    "       \"kaku\":[[-1, 1], [1, 1], [1, -1], [-1, -1]], \n",
    "       \"kin\":[[-1, 1], [0, 1], [1, 1], [1, 0], [0, -1], [-1, 0]], \n",
    "       \"gin\":[[-1, 1], [0, 1], [1, 1], [1, -1], [-1, -1]], \n",
    "       \"keima\":[[-1, 2], [1, 2]], \n",
    "       \"kyousha\":[[0, 1]], \n",
    "       \"hu\":[[0, 1]], \n",
    "       \"ryu\":[[-1, 1], [0, 1], [1, 1], [1, 0], [1, -1], [0, -1], [-1, -1], [-1, 0]], \n",
    "       \"uma\":[[-1, 1], [0, 1], [1, 1], [1, 0], [1, -1], [0, -1], [-1, -1], [-1, 0]],\n",
    "      } \n",
    "\n",
    "value_k = {\"ou\":[8, 8], \"gyoku\":[8, 8], \"hisha\":[12, 16], \"kaku\":[12, 16],\"kin\":[6, 6], \"gin\":[5, 6], \"keima\":[6, 6], \"kyousha\":[3, 6], \"hu\":[1, 6]}\n",
    "value_l = {\"first\":1, \"second\":2, \"third\":3} \n",
    "value_d = {\"first\":2, \"second\":1}\n",
    "end_f = 0\n",
    "player1 = [0, 2, 4] #各プレーヤの持ち駒\n",
    "player2 = [3, 1, 6]\n",
    "\n",
    "stage = {0:[1, 0], 2:[0, 1], 4:[2, 0], 3:[0, 2], 1:[1, 2], 6:[2, 2]} #初期盤面（自分が下）後で自分とcpの駒の区別をつけられるようにしなきゃだめ"
   ]
  },
  {
   "cell_type": "code",
   "execution_count": 128,
   "metadata": {
    "collapsed": false
   },
   "outputs": [],
   "source": [
    "def rob(player, nextpos, stage):\n",
    "    enemyplaces = {}\n",
    "    for i in player:\n",
    "        enemyplaces[i] = stage[i]\n",
    "    for i in enemyplaces.keys():\n",
    "        print(\"robablepos\", i)\n",
    "        if enemyplaces[i] == nextpos:\n",
    "            return i\n",
    "    return False \n",
    "    "
   ]
  },
  {
   "cell_type": "code",
   "execution_count": 129,
   "metadata": {
    "collapsed": false
   },
   "outputs": [
    {
     "name": "stdout",
     "output_type": "stream",
     "text": [
      "robablepos 0\n",
      "0\n"
     ]
    }
   ],
   "source": [
    "print(rob(player1, [1, 0], stage))"
   ]
  },
  {
   "cell_type": "code",
   "execution_count": 91,
   "metadata": {
    "collapsed": true
   },
   "outputs": [],
   "source": [
    "def evaluation_r(k, l, d, r) : #点数の合計をだすよ～\n",
    "    if r != false\n",
    "    return value_k[kind[k]][0] + value_l[l] + value_d[d] + value_k[kind[r]][0]#まだ成ることは考えてないよ～（value_k[kind[0]][0]の０のとこ）"
   ]
  },
  {
   "cell_type": "code",
   "execution_count": 92,
   "metadata": {
    "collapsed": true
   },
   "outputs": [],
   "source": [
    "def evaluation_n(k, l, d) : #点数の合計をだすよ～\n",
    "    return value_k[kind[k]][0] + value_l[l] + value_d[d]#まだ成ることは考えてないよ～（value_k[kind[0]][0]の０のとこ）"
   ]
  },
  {
   "cell_type": "code",
   "execution_count": 65,
   "metadata": {
    "collapsed": true
   },
   "outputs": [],
   "source": [
    "def lin(me): #列の点数を出すよ～\n",
    "    if me[1] == 2:\n",
    "        return \"third\"\n",
    "    elif me[1] == 1:\n",
    "        return \"second\"\n",
    "    elif me[1] == 0:\n",
    "        return \"first\""
   ]
  },
  {
   "cell_type": "code",
   "execution_count": 123,
   "metadata": {
    "collapsed": true
   },
   "outputs": [],
   "source": [
    "def dist(me, king): #王までの距離の点数を出すよ～\n",
    "    dist = np.sqrt((king[0] - me[0]) ** 2 + (king[1] - me[1]) ** 2)\n",
    "    if dist < 2 :\n",
    "        return \"first\"\n",
    "    elif dist >= 2 and dist <= 4 :\n",
    "        return \"second\""
   ]
  },
  {
   "cell_type": "code",
   "execution_count": 124,
   "metadata": {
    "collapsed": false
   },
   "outputs": [],
   "source": [
    "def cp_simu(player2):\n",
    "    global points\n",
    "    for piece in player2: #pieceを選択\n",
    "        print(\"*piece=\", piece)\n",
    "        for w in way[kind[piece]]: #wayを選択\n",
    "            print(\"way=\", w)\n",
    "            reverse_w = list(map(lambda x : x * -1, w))\n",
    "            position = np.array(stage[piece]) #選んだ駒の現在の座標\n",
    "            next_position = position + np.array(reverse_w) #進んだ先の座標\n",
    "            l_next_position = next_position.tolist() #numpyの配列と標準のリストの形が違うからinとかやってもダメ臭い=>ndarray.tolist()使おうや\n",
    "            print(list(map(lambda x:x >= 0 and x <= 2, l_next_position)))\n",
    "            if all(map(lambda x:x >= 0 and x <= 2, l_next_position)) == True: #進んだ先が盤面内に収まっているか\n",
    "                if l_next_position not in stage.values(): #進んだ先に駒がなかった場合\n",
    "                    king_position = stage[0] #自分は王だから王のポジションを特定する\n",
    "                    line = str(lin(next_position)) #列の評価係数(function_lin)\n",
    "                    print(\"line=\", line)\n",
    "                    distance = str(dist(l_next_position, king_position)) #距離の評価係数(function_dist)\n",
    "                    print(\"l_next_position=\", l_next_position)\n",
    "                    print(\"distance=\", distance)\n",
    "                    point = evaluation_n(piece, line, distance)\n",
    "                    print(\"*point=\", point) #手の駒の能力×列×距離の点数(function_evaluation)\n",
    "                    points.append([piece, point, l_next_position])\n",
    "                else:\n",
    "                    print(\"もうおるやんけ！\")#進んだ先が相手の駒だった場合は点数加算＆駒の位置の得点も加算\n",
    "                    robable_piece = rob(player1, l_next_position, stage) #取れる駒の種類(function_rob)\n",
    "                    if robable_piece == False:\n",
    "                        print(\"味方やんけ\")\n",
    "                    else: #進んだ先の駒が敵駒だったばあい\n",
    "                        print(\"robable_piece=\", robable_piece)\n",
    "                        print(\"line=\", line)\n",
    "                        print(\"l_next_position=\", l_next_position)\n",
    "                        print(\"distance=\", distance)\n",
    "                        point = evaluation_r(piece, line, distance, robable_piece)\n",
    "                        print(\"*駒取った+point=\", point) #手の駒の能力+列+距離の点数+取った駒の能力(function_evaluation)\n",
    "                        points.append([piece, point, l_next_position])\n",
    "                    \n",
    "            else:\n",
    "                print(\"進めないよバーカ\")\n",
    "    \n",
    "    return \"points=\", points\n",
    "            "
   ]
  },
  {
   "cell_type": "code",
   "execution_count": 130,
   "metadata": {
    "collapsed": false,
    "scrolled": false
   },
   "outputs": [
    {
     "name": "stdout",
     "output_type": "stream",
     "text": [
      "*piece= 3\n",
      "way= [-1, 1]\n",
      "[True, True]\n",
      "line= second\n",
      "l_next_position= [1, 1]\n",
      "distance= first\n",
      "*point= 16\n",
      "way= [1, 1]\n",
      "[False, True]\n",
      "進めないよバーカ\n",
      "way= [1, -1]\n",
      "[False, False]\n",
      "進めないよバーカ\n",
      "way= [-1, -1]\n",
      "[True, False]\n",
      "進めないよバーカ\n",
      "*piece= 1\n",
      "way= [-1, 1]\n",
      "[True, True]\n",
      "line= second\n",
      "l_next_position= [2, 1]\n",
      "distance= first\n",
      "*point= 12\n",
      "way= [0, 1]\n",
      "[True, True]\n",
      "line= second\n",
      "l_next_position= [1, 1]\n",
      "distance= first\n",
      "*point= 12\n",
      "way= [1, 1]\n",
      "[True, True]\n",
      "もうおるやんけ！\n",
      "robablepos 0\n",
      "robablepos 2\n",
      "robable_piece= 2\n",
      "line= second\n",
      "l_next_position= [0, 1]\n",
      "distance= first\n",
      "*駒取った+point= 24\n",
      "way= [1, 0]\n",
      "[True, True]\n",
      "もうおるやんけ！\n",
      "robablepos 0\n",
      "robablepos 2\n",
      "robablepos 4\n",
      "味方やんけ\n",
      "way= [1, -1]\n",
      "[True, False]\n",
      "進めないよバーカ\n",
      "way= [0, -1]\n",
      "[True, False]\n",
      "進めないよバーカ\n",
      "way= [-1, -1]\n",
      "[True, False]\n",
      "進めないよバーカ\n",
      "way= [-1, 0]\n",
      "[True, True]\n",
      "もうおるやんけ！\n",
      "robablepos 0\n",
      "robablepos 2\n",
      "robablepos 4\n",
      "味方やんけ\n",
      "*piece= 6\n",
      "way= [-1, 2]\n",
      "[False, True]\n",
      "進めないよバーカ\n",
      "way= [1, 2]\n",
      "[True, True]\n",
      "もうおるやんけ！\n",
      "robablepos 0\n",
      "味方やんけ\n",
      "('points=', [[3, 16, [1, 1]], [1, 12, [2, 1]], [1, 12, [1, 1]], [1, 24, [0, 1]]])\n"
     ]
    }
   ],
   "source": [
    "points =[]\n",
    "print (cp_simu(player2))"
   ]
  },
  {
   "cell_type": "code",
   "execution_count": null,
   "metadata": {
    "collapsed": true
   },
   "outputs": [],
   "source": []
  }
 ],
 "metadata": {
  "anaconda-cloud": {},
  "kernelspec": {
   "display_name": "Python [conda root]",
   "language": "python",
   "name": "conda-root-py"
  },
  "language_info": {
   "codemirror_mode": {
    "name": "ipython",
    "version": 3
   },
   "file_extension": ".py",
   "mimetype": "text/x-python",
   "name": "python",
   "nbconvert_exporter": "python",
   "pygments_lexer": "ipython3",
   "version": "3.5.2"
  }
 },
 "nbformat": 4,
 "nbformat_minor": 1
}
