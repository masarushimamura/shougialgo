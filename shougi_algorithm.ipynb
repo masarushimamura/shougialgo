{
 "cells": [
  {
   "cell_type": "markdown",
   "metadata": {},
   "source": [
    "# 仕組み\n",
    "1、評価と選定\n",
    "３要素（駒の価値、成るまでの距離、王（玉）までの距離　）でどの駒"
   ]
  },
  {
   "cell_type": "markdown",
   "metadata": {},
   "source": [
    "# 各オブジェクト説明\n",
    "\n",
    "kind = {0:\"ou\", 1:\"gyoku\", 2:\"hisha\", 3:\"kaku\",4:\"kin\", 5:\"gin\", 6:\"keima\", 7:\"kyousha\", 8:\"hu\"}　#駒の種類を特定 （自分は王、相手は玉）\n",
    "\n",
    "way = {\"ou\":[[-1, 1], [0, 1], [1, 1], [1, 0], [1, -1], [0, -1], [-1, -1], [-1, 0]], \n",
    "       \"gyoku\":[[-1, 1], [0, 1], [1, 1], [1, 0], [1, -1], [0, -1], [-1, -1], [-1, 0]], \n",
    "       \"hisha\":[[-1, 0], [0, 1], [1, 0], [0, -1]], \n",
    "       \"kaku\":[[-1, 1], [1, 1], [1, -1], [-1, -1]], \n",
    "       \"kin\":[[-1, 1], [0, 1], [1, 1], [1, 0], [0, -1], [-1, 0]], \n",
    "       \"gin\":[[-1, 1], [0, 1], [1, 1], [1, -1], [-1, -1]], \n",
    "       \"keima\":[[-1, 2], [1, 2]], \n",
    "       \"kyousha\":[[0, 1]], \n",
    "       \"hu\":[[0, 1]], \n",
    "       \"ryu\":[[-1, 1], [0, 1], [1, 1], [1, 0], [1, -1], [0, -1], [-1, -1], [-1, 0]], \n",
    "       \"uma\":[[-1, 1], [0, 1], [1, 1], [1, 0], [1, -1], [0, -1], [-1, -1], [-1, 0]],\n",
    "      } #各駒の進む方向\n",
    "\n",
    "value_k = {\"ou\":[8, 8], \"gyoku\":[8, 8], \"hisha\":[12, 16], \"kaku\":[12, 16],\"kin\":[6, 6], \"gin\":[5, 6], \"keima\":[6, 6], \"kyousha\":[3, 6], \"hu\":[1, 6]} #各駒の評価係数\n",
    "value_p = {\"first\":1, \"second\":2, \"third\":3} #各列の評価係数（相手陣地に近いほど高い）\n",
    "value_d = {\"first\":2, \"second\":1} #王との距離の評価係数\n",
    "end_f = 0 #対局終了フラグ\n",
    "player1 = [0, 2, 4] #各プレーヤの持ち駒\n",
    "player2 = [3, 1, 6]\n",
    "\n",
    "stage = {0:[1, 0], 2:[0, 1], 4:[2, 0], 3:[0, 2], 1:[1, 2], 6:[2, 2]} #初期配置\n"
   ]
  },
  {
   "cell_type": "markdown",
   "metadata": {},
   "source": [
    "# memo \n",
    "駒にプレイヤの識別タグ？を付けなければいけない\n",
    "将来DBに駒情報とかのパラメータを置くということを考えながら設計する。"
   ]
  },
  {
   "cell_type": "code",
   "execution_count": 15,
   "metadata": {
    "collapsed": true
   },
   "outputs": [],
   "source": [
    "import numpy as np\n",
    "import math"
   ]
  },
  {
   "cell_type": "code",
   "execution_count": 53,
   "metadata": {
    "collapsed": false,
    "scrolled": true
   },
   "outputs": [],
   "source": [
    "kind = {0:\"ou\", 1:\"gyoku\", 2:\"hisha\", 3:\"kaku\",4:\"kin\", 5:\"gin\", 6:\"keima\", 7:\"kyousha\", 8:\"hu\"}\n",
    "\n",
    "way = {\"ou\":[[-1, 1], [0, 1], [1, 1], [1, 0], [1, -1], [0, -1], [-1, -1], [-1, 0]], \n",
    "       \"gyoku\":[[-1, 1], [0, 1], [1, 1], [1, 0], [1, -1], [0, -1], [-1, -1], [-1, 0]], \n",
    "       \"hisha\":[[-1, 0], [0, 1], [1, 0], [0, -1]], \n",
    "       \"kaku\":[[-1, 1], [1, 1], [1, -1], [-1, -1]], \n",
    "       \"kin\":[[-1, 1], [0, 1], [1, 1], [1, 0], [0, -1], [-1, 0]], \n",
    "       \"gin\":[[-1, 1], [0, 1], [1, 1], [1, -1], [-1, -1]], \n",
    "       \"keima\":[[-1, 2], [1, 2]], \n",
    "       \"kyousha\":[[0, 1]], \n",
    "       \"hu\":[[0, 1]], \n",
    "       \"ryu\":[[-1, 1], [0, 1], [1, 1], [1, 0], [1, -1], [0, -1], [-1, -1], [-1, 0]], \n",
    "       \"uma\":[[-1, 1], [0, 1], [1, 1], [1, 0], [1, -1], [0, -1], [-1, -1], [-1, 0]],\n",
    "      } \n",
    "\n",
    "value_k = {\"ou\":[8, 8], \"gyoku\":[8, 8], \"hisha\":[12, 16], \"kaku\":[12, 16],\"kin\":[6, 6], \"gin\":[5, 6], \"keima\":[6, 6], \"kyousha\":[3, 6], \"hu\":[1, 6]}\n",
    "value_l = {\"first\":1, \"second\":2, \"third\":3} \n",
    "value_d = {\"first\":2, \"second\":1}\n",
    "end_f = 0\n",
    "player1 = [0, 2, 4] #各プレーヤの持ち駒\n",
    "player2 = [3, 1, 6]\n",
    "\n",
    "stage = {0:[1, 0], 2:[0, 1], 4:[2, 0], 3:[0, 2], 1:[1, 2], 6:[2, 2]} #初期盤面（自分が下）後で自分とcpの駒の区別をつけられるようにしなきゃだめ"
   ]
  },
  {
   "cell_type": "code",
   "execution_count": 54,
   "metadata": {
    "collapsed": true
   },
   "outputs": [],
   "source": [
    "def evaluation(k, l, d) : #点数の合計をだすよ～\n",
    "    return value_k[kind[0]][0] + value_l[l] + value_d[d] #まだ成ることは考えてないよ～（value_k[kind[0]][0]の０のとこ）"
   ]
  },
  {
   "cell_type": "code",
   "execution_count": 55,
   "metadata": {
    "collapsed": true
   },
   "outputs": [],
   "source": [
    "def lin(me): #列の点数を出すよ～\n",
    "    if me[1] == 2:\n",
    "        return \"third\"\n",
    "    elif me[1] == 1:\n",
    "        return \"second\"\n",
    "    elif me[1] == 0:\n",
    "        return \"first\""
   ]
  },
  {
   "cell_type": "code",
   "execution_count": 69,
   "metadata": {
    "collapsed": true
   },
   "outputs": [],
   "source": [
    "def dist(me, king): #王までの距離の点数を出すよ～\n",
    "    dist = np.sqrt((king[0] - me[0]) ** 2 + (king[1] - me[1]) ** 2)\n",
    "    print(dist)\n",
    "    if dist < 2 :\n",
    "        return \"first\"\n",
    "    elif dist >= 2 and dist <= 3 :\n",
    "        return \"second\""
   ]
  },
  {
   "cell_type": "code",
   "execution_count": 70,
   "metadata": {
    "collapsed": false
   },
   "outputs": [
    {
     "name": "stdout",
     "output_type": "stream",
     "text": [
      "3.60555127546\n",
      "None\n"
     ]
    }
   ],
   "source": [
    "print(dist([-1, 3], [1, 0]))"
   ]
  },
  {
   "cell_type": "code",
   "execution_count": 79,
   "metadata": {
    "collapsed": false
   },
   "outputs": [],
   "source": [
    "def my_simu(player2):\n",
    "    points = []\n",
    "    for piece in player2: #pieceを選択\n",
    "        print(\"piece=\", piece)\n",
    "        for w in way[kind[piece]]: #wayを選択\n",
    "            print(\"way=\", w)\n",
    "            position = np.array(stage[piece]) #選んだ駒の現在の座標\n",
    "            next_position = position + np.array(w) #進んだ先の座標\n",
    "            l_next_position = next_position.tolist() #numpyの配列と標準のリストの形が違うからinとかやってもダメ臭い=>ndarray.tolist()使おうや\n",
    "            print(list(map(lambda x:x >= 0 and x <= 2, l_next_position)))\n",
    "            if all(map(lambda x:x >= 0 and x <= 2, l_next_position)) == True:\n",
    "                if l_next_position not in stage.values(): #進んだ先に駒がなかった場合\n",
    "                    king_position = stage[0] #自分は王だから王のポジションを特定する\n",
    "                    line = lin(next_position) #列の評価係数\n",
    "                    distance = dist(l_next_position, king_position) #距離の評価係数\n",
    "                    print(\"l_next_position=\", l_next_position)\n",
    "                    print(\"king_position=\", king_position)\n",
    "                    print(\"distance=\", distance)\n",
    "                    points.append(evaluation(piece, line, distance)) #手の駒の能力×列×距離の点数\n",
    "            else:\n",
    "                print(\"進めないよバーカ\")\n",
    "    \n",
    "    return points\n",
    "            "
   ]
  },
  {
   "cell_type": "code",
   "execution_count": 80,
   "metadata": {
    "collapsed": false,
    "scrolled": false
   },
   "outputs": [
    {
     "name": "stdout",
     "output_type": "stream",
     "text": [
      "piece= 3\n",
      "way= [-1, 1]\n",
      "[False, False]\n",
      "進めないよバーカ\n",
      "way= [1, 1]\n",
      "[True, False]\n",
      "進めないよバーカ\n",
      "way= [1, -1]\n",
      "[True, True]\n",
      "1.0\n",
      "l_next_position= [1, 1]\n",
      "king_position= [1, 0]\n",
      "distance= first\n",
      "way= [-1, -1]\n",
      "[False, True]\n",
      "進めないよバーカ\n",
      "piece= 1\n",
      "way= [-1, 1]\n",
      "[True, False]\n",
      "進めないよバーカ\n",
      "way= [0, 1]\n",
      "[True, False]\n",
      "進めないよバーカ\n",
      "way= [1, 1]\n",
      "[True, False]\n",
      "進めないよバーカ\n",
      "way= [1, 0]\n",
      "[True, True]\n",
      "way= [1, -1]\n",
      "[True, True]\n",
      "1.41421356237\n",
      "l_next_position= [2, 1]\n",
      "king_position= [1, 0]\n",
      "distance= first\n",
      "way= [0, -1]\n",
      "[True, True]\n",
      "1.0\n",
      "l_next_position= [1, 1]\n",
      "king_position= [1, 0]\n",
      "distance= first\n",
      "way= [-1, -1]\n",
      "[True, True]\n",
      "way= [-1, 0]\n",
      "[True, True]\n",
      "piece= 6\n",
      "way= [-1, 2]\n",
      "[True, False]\n",
      "進めないよバーカ\n",
      "way= [1, 2]\n",
      "[False, False]\n",
      "進めないよバーカ\n",
      "[12, 12, 12]\n"
     ]
    }
   ],
   "source": [
    "print (my_simu(player2))"
   ]
  },
  {
   "cell_type": "code",
   "execution_count": 51,
   "metadata": {
    "collapsed": false
   },
   "outputs": [
    {
     "name": "stdout",
     "output_type": "stream",
     "text": [
      "8\n"
     ]
    }
   ],
   "source": [
    "print(value_k.get(kind[0])[0])"
   ]
  },
  {
   "cell_type": "code",
   "execution_count": null,
   "metadata": {
    "collapsed": true
   },
   "outputs": [],
   "source": []
  }
 ],
 "metadata": {
  "anaconda-cloud": {},
  "kernelspec": {
   "display_name": "Python [conda root]",
   "language": "python",
   "name": "conda-root-py"
  },
  "language_info": {
   "codemirror_mode": {
    "name": "ipython",
    "version": 3
   },
   "file_extension": ".py",
   "mimetype": "text/x-python",
   "name": "python",
   "nbconvert_exporter": "python",
   "pygments_lexer": "ipython3",
   "version": "3.5.2"
  }
 },
 "nbformat": 4,
 "nbformat_minor": 1
}
