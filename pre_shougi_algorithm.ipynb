{
 "cells": [
  {
   "cell_type": "markdown",
   "metadata": {},
   "source": [
    "# 仕組み\n",
    "1、評価と選定\n",
    "３要素（駒の価値、成るまでの距離、王（玉）までの距離　）でどの駒\n",
    "\n",
    "まずコンピュータが出せるすべての手を出して（それぞれに対する点数もつけて）、コンピュータのすべての手に対して、プレイヤーのすべての手も出して（点数をつけて）、コンピュータの手の点　ー　プレーヤーの手の点を計算して、この式で一番高い点が出せるコンピュータの点を導出する。"
   ]
  },
  {
   "cell_type": "markdown",
   "metadata": {},
   "source": [
    "# 各オブジェクト説明\n",
    "\n",
    "kind = {0:\"ou\", 1:\"gyoku\", 2:\"hisha\", 3:\"kaku\",4:\"kin\", 5:\"gin\", 6:\"keima\", 7:\"kyousha\", 8:\"hu\"}　#駒の種類を特定 （自分は王、相手は玉）\n",
    "\n",
    "way = {\"ou\":[[-1, 1], [0, 1], [1, 1], [1, 0], [1, -1], [0, -1], [-1, -1], [-1, 0]], \n",
    "       \"gyoku\":[[-1, 1], [0, 1], [1, 1], [1, 0], [1, -1], [0, -1], [-1, -1], [-1, 0]], \n",
    "       \"hisha\":[[-1, 0], [0, 1], [1, 0], [0, -1]], \n",
    "       \"kaku\":[[-1, 1], [1, 1], [1, -1], [-1, -1]], \n",
    "       \"kin\":[[-1, 1], [0, 1], [1, 1], [1, 0], [0, -1], [-1, 0]], \n",
    "       \"gin\":[[-1, 1], [0, 1], [1, 1], [1, -1], [-1, -1]], \n",
    "       \"keima\":[[-1, 2], [1, 2]], \n",
    "       \"kyousha\":[[0, 1]], \n",
    "       \"hu\":[[0, 1]], \n",
    "       \"ryu\":[[-1, 1], [0, 1], [1, 1], [1, 0], [1, -1], [0, -1], [-1, -1], [-1, 0]], \n",
    "       \"uma\":[[-1, 1], [0, 1], [1, 1], [1, 0], [1, -1], [0, -1], [-1, -1], [-1, 0]],\n",
    "      } #各駒の進む方向\n",
    "\n",
    "value_k = {\"ou\":[8, 8], \"gyoku\":[8, 8], \"hisha\":[12, 16], \"kaku\":[12, 16],\"kin\":[6, 6], \"gin\":[5, 6], \"keima\":[6, 6], \"kyousha\":[3, 6], \"hu\":[1, 6]} #各駒の評価係数\n",
    "value_p = {\"first\":1, \"second\":2, \"third\":3} #各列の評価係数（相手陣地に近いほど高い）\n",
    "value_d = {\"first\":2, \"second\":1} #王との距離の評価係数\n",
    "end_f = 0 #対局終了フラグ\n",
    "player = [0, 2, 4] #各プレーヤの持ち駒\n",
    "computer = [3, 1, 6]\n",
    "\n",
    "stage = {0:[1, 0], 2:[0, 1], 4:[2, 0], 3:[0, 2], 1:[1, 2], 6:[2, 2]} #初期配置\n"
   ]
  },
  {
   "cell_type": "markdown",
   "metadata": {},
   "source": [
    "# memo \n",
    "駒にプレイヤの識別タグ？を付けなければいけない\n",
    "将来DBに駒情報とかのパラメータを置くということを考えながら設計する。"
   ]
  },
  {
   "cell_type": "code",
   "execution_count": 1,
   "metadata": {
    "collapsed": true
   },
   "outputs": [],
   "source": [
    "import numpy as np"
   ]
  },
  {
   "cell_type": "code",
   "execution_count": 2,
   "metadata": {
    "collapsed": false,
    "scrolled": true
   },
   "outputs": [],
   "source": [
    "kind = {0:\"ou\", 1:\"gyoku\", 2:\"hisha\", 3:\"kaku\",4:\"kin\", 5:\"gin\", 6:\"keima\", 7:\"kyousha\", 8:\"hu\"}\n",
    "\n",
    "way = {\"ou\":[[-1, 1], [0, 1], [1, 1], [1, 0], [1, -1], [0, -1], [-1, -1], [-1, 0]], \n",
    "       \"gyoku\":[[-1, 1], [0, 1], [1, 1], [1, 0], [1, -1], [0, -1], [-1, -1], [-1, 0]], \n",
    "       \"hisha\":[[-1, 0], [0, 1], [1, 0], [0, -1]], \n",
    "       \"kaku\":[[-1, 1], [1, 1], [1, -1], [-1, -1]], \n",
    "       \"kin\":[[-1, 1], [0, 1], [1, 1], [1, 0], [0, -1], [-1, 0]], \n",
    "       \"gin\":[[-1, 1], [0, 1], [1, 1], [1, -1], [-1, -1]], \n",
    "       \"keima\":[[-1, 2], [1, 2]], \n",
    "       \"kyousha\":[[0, 1]], \n",
    "       \"hu\":[[0, 1]], \n",
    "       \"ryu\":[[-1, 1], [0, 1], [1, 1], [1, 0], [1, -1], [0, -1], [-1, -1], [-1, 0]], \n",
    "       \"uma\":[[-1, 1], [0, 1], [1, 1], [1, 0], [1, -1], [0, -1], [-1, -1], [-1, 0]],\n",
    "      } \n",
    "\n",
    "value_k = {\"ou\":[8, 8], \"gyoku\":[8, 8], \"hisha\":[12, 16], \"kaku\":[12, 16],\"kin\":[6, 6], \"gin\":[5, 6], \"keima\":[6, 6], \"kyousha\":[3, 6], \"hu\":[1, 6]}\n",
    "value_l = {\"first\":1, \"second\":2, \"third\":3} \n",
    "value_d = {\"first\":2, \"second\":1}\n",
    "end_f = 0\n",
    "#player = [0, 2, 5] #各プレーヤの持ち駒\n",
    "#computer = [3, 1, 6]\n",
    "\n",
    "\n",
    "#stage = {0:[1, 0], 2:[0, 1], 5:[2, 0], 3:[0, 2], 1:[1, 2], 6:[2, 2]} #初期盤面（自分が下）後で自分とcpの駒の区別をつけられるようにしなきゃだめ\n",
    "points =[]\n",
    "points2 =[]"
   ]
  },
  {
   "cell_type": "markdown",
   "metadata": {},
   "source": [
    "# 1, cp,pl共に使う共通の評価関数。"
   ]
  },
  {
   "cell_type": "code",
   "execution_count": 3,
   "metadata": {
    "collapsed": false
   },
   "outputs": [],
   "source": [
    "def rob(player, nextpos, stage): #相手プレーヤーの手持ちコマがplayerに入る\n",
    "    enemyplaces = {}\n",
    "    for i in player:\n",
    "        enemyplaces[i] = stage[i]\n",
    "    for i in enemyplaces.keys():\n",
    "        if enemyplaces[i] == nextpos:\n",
    "            return i #なんか0の駒（王）の時pythonだと0 = Falseみたいな感じで処理されるから数値そのままだとダメくさい。\n",
    "    return \"false\"  #上のやつを変えるのめんどいからFalseの時文字列のfalseにした \n",
    "    "
   ]
  },
  {
   "cell_type": "code",
   "execution_count": 4,
   "metadata": {
    "collapsed": false
   },
   "outputs": [],
   "source": [
    "#rob(player, )"
   ]
  },
  {
   "cell_type": "code",
   "execution_count": 5,
   "metadata": {
    "collapsed": false
   },
   "outputs": [],
   "source": [
    "def evaluation_r(k, l, d, r) : #点数の合計をだすよ～\n",
    "    return value_k[kind[k]][0] + value_l[l] + value_d[d] + value_k[kind[r]][0]#まだ成ることは考えてないよ～（value_k[kind[0]][0]の０のとこ）"
   ]
  },
  {
   "cell_type": "code",
   "execution_count": 6,
   "metadata": {
    "collapsed": true
   },
   "outputs": [],
   "source": [
    "def evaluation_n(k, l, d) : #点数の合計をだすよ～\n",
    "    return value_k[kind[k]][0] + value_l[l] + value_d[d]#まだ成ることは考えてないよ～（value_k[kind[0]][0]の０のとこ）"
   ]
  },
  {
   "cell_type": "code",
   "execution_count": 7,
   "metadata": {
    "collapsed": true
   },
   "outputs": [],
   "source": [
    "def lin(me): #列の点数を出すよ～\n",
    "    if me[1] == 2:\n",
    "        return \"third\"\n",
    "    elif me[1] == 1:\n",
    "        return \"second\"\n",
    "    elif me[1] == 0:\n",
    "        return \"first\""
   ]
  },
  {
   "cell_type": "code",
   "execution_count": 8,
   "metadata": {
    "collapsed": true
   },
   "outputs": [],
   "source": [
    "def dist(me, king): #王までの距離の点数を出すよ～\n",
    "    dist = np.sqrt((king[0] - me[0]) ** 2 + (king[1] - me[1]) ** 2)\n",
    "    if dist < 2 :\n",
    "        return \"first\"\n",
    "    elif dist >= 2 and dist <= 4 :\n",
    "        return \"second\""
   ]
  },
  {
   "cell_type": "code",
   "execution_count": 9,
   "metadata": {
    "collapsed": false
   },
   "outputs": [],
   "source": [
    "def movedstage(tomovestage, choices):\n",
    "    stageset = []\n",
    "    originstage = {}\n",
    "    for i in range(len(choices)):\n",
    "        for k, v in tomovestage.items():\n",
    "            originstage[k] = v\n",
    "        originstage[choices[i][1]] = choices[i][2]\n",
    "        stageset.append([choices[i][0], originstage])\n",
    "        #print (originstage)\n",
    "    return stageset"
   ]
  },
  {
   "cell_type": "markdown",
   "metadata": {},
   "source": [
    "originstageにtomovestage(globalのstage)を直接代入するとstageが変更されるからfor文やってる"
   ]
  },
  {
   "cell_type": "code",
   "execution_count": 10,
   "metadata": {
    "collapsed": false
   },
   "outputs": [],
   "source": [
    "#print(\"stage=\", stage)\n",
    "#print (movedstage(stage, [[16, 3, [1, 1]], [12, 1, [2, 1]], [12, 1, [1, 1]], [24, 1, [0, 1], 'robable_piece=', 2], [18, 6, [1, 0], 'robable_piece=', 0]]))\n",
    "#print(\"stage=\", stage)"
   ]
  },
  {
   "cell_type": "markdown",
   "metadata": {},
   "source": [
    "# 2, コンピュータの手をシミュレーションする関数"
   ]
  },
  {
   "cell_type": "code",
   "execution_count": 11,
   "metadata": {
    "collapsed": false
   },
   "outputs": [],
   "source": [
    "def cp_simu(computer):\n",
    "    for piece in computer : #pieceを選択\n",
    "        #print(\"*piece=\", piece)\n",
    "        for w in way[kind[piece]]: #wayを選択\n",
    "            #print(\"way=\", w)\n",
    "            reverse_w = list(map(lambda x : x * -1, w))\n",
    "            position = np.array(stage[piece]) #選んだ駒の現在の座標\n",
    "            next_position = position + np.array(reverse_w) #進んだ先の座標\n",
    "            l_next_position = next_position.tolist() #numpyの配列と標準のリストの形が違うからinとかやってもダメ臭い=>ndarray.tolist()使おうや\n",
    "            #print(list(map(lambda x:x >= 0 and x <= 2, l_next_position)))\n",
    "            if all(map(lambda x:x >= 0 and x <= 2, l_next_position)) == True: #進んだ先が盤面内に収まっているか\n",
    "                if l_next_position not in stage.values(): #進んだ先に駒がなかった場合\n",
    "                    king_position = stage[0] #自分は王だから王のポジションを特定する\n",
    "                    line = str(lin(next_position)) #列の評価係数(function_lin)\n",
    "                    #print(\"line=\", line)\n",
    "                    distance = str(dist(l_next_position, king_position)) #距離の評価係数(function_dist)\n",
    "                    #print(\"l_next_position=\", l_next_position)\n",
    "                    #print(\"distance=\", distance)\n",
    "                    point = evaluation_n(piece, line, distance)\n",
    "                    #print(\"*point=\", point) #手の駒の能力×列×距離の点数(function_evaluation)\n",
    "                    points.append([point, piece, l_next_position]) #動かした駒、動かした結果の評価点数、動かした場合その駒の位置\n",
    "                else:\n",
    "                    #print(\"もうおるやんけ！\")#進んだ先が相手の駒だった場合は点数加算＆駒の位置の得点も加算\n",
    "                    robable_piece = rob(player, l_next_position, stage) #取れる駒の種類(function_rob)\n",
    "                    if robable_piece != \"false\":\n",
    "                        #進んだ先の駒が敵駒だったばあい\n",
    "                        #print(\"robable_piece=\", robable_piece)\n",
    "                        #print(\"line=\", line)\n",
    "                        #print(\"l_next_position=\", l_next_position)\n",
    "                        #print(\"distance=\", distance)\n",
    "                        point = evaluation_r(piece, line, distance, robable_piece)\n",
    "                        #print(\"*駒取った+point=\", point) #手の駒の能力+列+距離の点数+取った駒の能力(function_evaluation)\n",
    "                        points.append([point, piece, l_next_position,\"robable_piece=\", robable_piece]) \n",
    "                        #動かした駒、動かした結果の評価点数、動かした場合その駒の位置、手に入れた駒\n",
    "                    #else:\n",
    "                        #print(\"味方やんけ\")\n",
    "            #else:\n",
    "                #print(\"進めないよ\")\n",
    "    \n",
    "    return points\n",
    "            "
   ]
  },
  {
   "cell_type": "code",
   "execution_count": 12,
   "metadata": {
    "collapsed": false,
    "scrolled": false
   },
   "outputs": [],
   "source": [
    "#print (cp_simu(computer))"
   ]
  },
  {
   "cell_type": "markdown",
   "metadata": {
    "collapsed": true
   },
   "source": [
    "\n",
    "# 3, プレイヤーの手をシミュレートする関数"
   ]
  },
  {
   "cell_type": "code",
   "execution_count": 13,
   "metadata": {
    "collapsed": false
   },
   "outputs": [],
   "source": [
    "def pl_simu(prestage, player):\n",
    "    stage = prestage\n",
    "    \n",
    "    for piece in player : #pieceを選択\n",
    "        #print(\"*piece=\", piece)\n",
    "        for w in way[kind[piece]]: #wayを選択\n",
    "            #print(\"way=\", w)\n",
    "            position = np.array(stage[piece]) #選んだ駒の現在の座標\n",
    "            next_position = position + np.array(w) #進んだ先の座標\n",
    "            l_next_position = next_position.tolist() #numpyの配列と標準のリストの形が違うからinとかやってもダメ臭い=>ndarray.tolist()使おうや\n",
    "            #print(list(map(lambda x:x >= 0 and x <= 2, l_next_position)))\n",
    "            if all(map(lambda x:x >= 0 and x <= 2, l_next_position)) == True: #進んだ先が盤面内に収まっているか\n",
    "                if l_next_position not in stage.values(): #進んだ先に駒がなかった場合\n",
    "                    king_position = stage[1] #コンピュータは玉だから玉のポジションを特定する\n",
    "                    line = str(lin(next_position)) #列の評価係数(function_lin)\n",
    "                    #print(\"line=\", line)\n",
    "                    distance = str(dist(l_next_position, king_position)) #距離の評価係数(function_dist)\n",
    "                    #print(\"l_next_position=\", l_next_position)\n",
    "                    #print(\"distance=\", distance)\n",
    "                    point = evaluation_n(piece, line, distance)\n",
    "                    #print(\"*point=\", point) #手の駒の能力×列×距離の点数(function_evaluation)\n",
    "                    points2.append([point, piece, l_next_position]) #動かした駒、動かした結果の評価点数、動かした場合その駒の位置\n",
    "                else:\n",
    "                    #print(\"もうおるやんけ！\")#進んだ先が相手の駒だった場合は点数加算＆駒の位置の得点も加算\n",
    "                    robable_piece = rob(computer, l_next_position, stage) #取れる駒の種類(function_rob)\n",
    "                    if robable_piece != \"false\":\n",
    "                        #進んだ先の駒が敵駒だったばあい\n",
    "                        #print(\"robable_piece=\", robable_piece)\n",
    "                        #print(\"line=\", line)\n",
    "                        #print(\"l_next_position=\", l_next_position)\n",
    "                        #print(\"distance=\", distance)\n",
    "                        point = evaluation_r(piece, line, distance, robable_piece)\n",
    "                        #print(\"*駒取った+point=\", point) #手の駒の能力+列+距離の点数+取った駒の能力(function_evaluation)\n",
    "                        points2.append([point, piece, l_next_position,\"robable_piece=\", robable_piece]) \n",
    "                        #動かした結果の評価点数、動かした駒、動かした場合その駒の位置、手に入れた駒\n",
    "                    #else: \n",
    "                        #print(\"味方やんけ\")\n",
    "                     \n",
    "            #else:\n",
    "                #print(\"進めないよ\")\n",
    "    \n",
    "    #print(\"points2=\", points2)\n",
    "    return points2"
   ]
  },
  {
   "cell_type": "code",
   "execution_count": 14,
   "metadata": {
    "collapsed": false
   },
   "outputs": [],
   "source": [
    "#print (pl_simu(stage, player))"
   ]
  },
  {
   "cell_type": "markdown",
   "metadata": {
    "collapsed": true
   },
   "source": [
    "# 4, コンピュータの手とその次のプレーヤーの手の評価をして、コンピュータはどの手を出せばいいのかを選ぶ関数。"
   ]
  },
  {
   "cell_type": "code",
   "execution_count": 15,
   "metadata": {
    "collapsed": false
   },
   "outputs": [
    {
     "data": {
      "text/plain": [
       "'\\ndef selectway():\\n    cp_movedstage = movedstage(stage, cp_simu(computer))\\n    #print(\"cp_movedstage=\", cp_movedstage)\\n    finaly_points = []\\n    pl_movedstage = []\\n    n = 0\\n    for i in cp_movedstage:\\n        plways = pl_simu(i[1], player)\\n        pl_movedstage.append((movedstage(stage, pl_simu(i[1], player)), \"num= ¥n\", n))\\n        finaly_points.append(i[0] - max(plways)[0])  #コンピュータの手の点\\u3000ー\\u3000プレイヤーの手の点\\n        n += 1\\n        #print(\"plways=\", plways)\\n        #print(\"finaly_points=\", finaly_points)\\n    #print(\"pl_movedstage=\", pl_movedstage)\\n    return cp_movedstage[finaly_points.index(max(finaly_points))][1]\\n'"
      ]
     },
     "execution_count": 15,
     "metadata": {},
     "output_type": "execute_result"
    }
   ],
   "source": [
    "\"\"\"\n",
    "def selectway():\n",
    "    cp_movedstage = movedstage(stage, cp_simu(computer))\n",
    "    #print(\"cp_movedstage=\", cp_movedstage)\n",
    "    finaly_points = []\n",
    "    pl_movedstage = []\n",
    "    n = 0\n",
    "    for i in cp_movedstage:\n",
    "        plways = pl_simu(i[1], player)\n",
    "        pl_movedstage.append((movedstage(stage, pl_simu(i[1], player)), \"num= ¥n\", n))\n",
    "        finaly_points.append(i[0] - max(plways)[0])  #コンピュータの手の点　ー　プレイヤーの手の点\n",
    "        n += 1\n",
    "        #print(\"plways=\", plways)\n",
    "        #print(\"finaly_points=\", finaly_points)\n",
    "    #print(\"pl_movedstage=\", pl_movedstage)\n",
    "    return cp_movedstage[finaly_points.index(max(finaly_points))][1]\n",
    "\"\"\""
   ]
  },
  {
   "cell_type": "code",
   "execution_count": 16,
   "metadata": {
    "collapsed": true
   },
   "outputs": [],
   "source": [
    "def selectway(stg, plr, cp):\n",
    "    cpways = movedstage(stg,  cp_simu(stg, plr, cp))\n",
    "    finaly_points = []\n",
    "    for i in cpways:\n",
    "        plways = pl_simu(i[1],  plr, cp)\n",
    "        finaly_points.append(i[0] - max(plways)[0])\n",
    "    return cpways[finaly_points.index(max(finaly_points))][1]"
   ]
  },
  {
   "cell_type": "code",
   "execution_count": 17,
   "metadata": {
    "collapsed": false
   },
   "outputs": [],
   "source": [
    "#pl_simu({0: [1, 0], 1: [1, 2], 2: [0, 1], 3: [0, 2], 5: [2, 0], 6: [1, 0]}, player)"
   ]
  },
  {
   "cell_type": "code",
   "execution_count": 18,
   "metadata": {
    "collapsed": false
   },
   "outputs": [],
   "source": [
    "#movedstage(stage, pl_simu({0: [1, 0], 1: [1, 2], 2: [0, 1], 3: [0, 2], 4: [2, 0], 6: [1, 0]}, player))"
   ]
  },
  {
   "cell_type": "markdown",
   "metadata": {},
   "source": [
    "詰み判定でもselectwaysを使いたいので小変更をする"
   ]
  },
  {
   "cell_type": "code",
   "execution_count": 19,
   "metadata": {
    "collapsed": false,
    "scrolled": false
   },
   "outputs": [
    {
     "name": "stdout",
     "output_type": "stream",
     "text": [
      "CPU times: user 2 µs, sys: 1 µs, total: 3 µs\n",
      "Wall time: 5.01 µs\n"
     ]
    },
    {
     "ename": "TypeError",
     "evalue": "cp_simu() takes 1 positional argument but 3 were given",
     "output_type": "error",
     "traceback": [
      "\u001b[0;31m---------------------------------------------------------------------------\u001b[0m",
      "\u001b[0;31mTypeError\u001b[0m                                 Traceback (most recent call last)",
      "\u001b[0;32m<ipython-input-19-ac4c02037204>\u001b[0m in \u001b[0;36m<module>\u001b[0;34m()\u001b[0m\n\u001b[1;32m      1\u001b[0m \u001b[0mget_ipython\u001b[0m\u001b[0;34m(\u001b[0m\u001b[0;34m)\u001b[0m\u001b[0;34m.\u001b[0m\u001b[0mmagic\u001b[0m\u001b[0;34m(\u001b[0m\u001b[0;34m'time'\u001b[0m\u001b[0;34m)\u001b[0m\u001b[0;34m\u001b[0m\u001b[0m\n\u001b[0;32m----> 2\u001b[0;31m \u001b[0mprint\u001b[0m\u001b[0;34m(\u001b[0m\u001b[0;34m\"nextstage\"\u001b[0m\u001b[0;34m,\u001b[0m \u001b[0mselectway\u001b[0m\u001b[0;34m(\u001b[0m\u001b[0;34m{\u001b[0m\u001b[0;36m0\u001b[0m\u001b[0;34m:\u001b[0m\u001b[0;34m[\u001b[0m\u001b[0;36m1\u001b[0m\u001b[0;34m,\u001b[0m \u001b[0;36m0\u001b[0m\u001b[0;34m]\u001b[0m\u001b[0;34m,\u001b[0m \u001b[0;36m2\u001b[0m\u001b[0;34m:\u001b[0m\u001b[0;34m[\u001b[0m\u001b[0;36m0\u001b[0m\u001b[0;34m,\u001b[0m \u001b[0;36m1\u001b[0m\u001b[0;34m]\u001b[0m\u001b[0;34m,\u001b[0m \u001b[0;36m5\u001b[0m\u001b[0;34m:\u001b[0m\u001b[0;34m[\u001b[0m\u001b[0;36m2\u001b[0m\u001b[0;34m,\u001b[0m \u001b[0;36m0\u001b[0m\u001b[0;34m]\u001b[0m\u001b[0;34m,\u001b[0m \u001b[0;36m3\u001b[0m\u001b[0;34m:\u001b[0m\u001b[0;34m[\u001b[0m\u001b[0;36m0\u001b[0m\u001b[0;34m,\u001b[0m \u001b[0;36m2\u001b[0m\u001b[0;34m]\u001b[0m\u001b[0;34m,\u001b[0m \u001b[0;36m1\u001b[0m\u001b[0;34m:\u001b[0m\u001b[0;34m[\u001b[0m\u001b[0;36m1\u001b[0m\u001b[0;34m,\u001b[0m \u001b[0;36m2\u001b[0m\u001b[0;34m]\u001b[0m\u001b[0;34m,\u001b[0m \u001b[0;36m6\u001b[0m\u001b[0;34m:\u001b[0m\u001b[0;34m[\u001b[0m\u001b[0;36m2\u001b[0m\u001b[0;34m,\u001b[0m \u001b[0;36m2\u001b[0m\u001b[0;34m]\u001b[0m\u001b[0;34m}\u001b[0m\u001b[0;34m,\u001b[0m \u001b[0;34m[\u001b[0m\u001b[0;36m0\u001b[0m\u001b[0;34m,\u001b[0m \u001b[0;36m2\u001b[0m\u001b[0;34m,\u001b[0m \u001b[0;36m5\u001b[0m\u001b[0;34m]\u001b[0m\u001b[0;34m,\u001b[0m \u001b[0;34m[\u001b[0m\u001b[0;36m3\u001b[0m\u001b[0;34m,\u001b[0m \u001b[0;36m1\u001b[0m\u001b[0;34m,\u001b[0m \u001b[0;36m6\u001b[0m\u001b[0;34m]\u001b[0m\u001b[0;34m)\u001b[0m\u001b[0;34m)\u001b[0m\u001b[0;34m\u001b[0m\u001b[0m\n\u001b[0m\u001b[1;32m      3\u001b[0m \u001b[0;31m#print(\"originstage=\", stage)\u001b[0m\u001b[0;34m\u001b[0m\u001b[0;34m\u001b[0m\u001b[0m\n",
      "\u001b[0;32m<ipython-input-16-9e21e905f24b>\u001b[0m in \u001b[0;36mselectway\u001b[0;34m(stg, plr, cp)\u001b[0m\n\u001b[1;32m      1\u001b[0m \u001b[0;32mdef\u001b[0m \u001b[0mselectway\u001b[0m\u001b[0;34m(\u001b[0m\u001b[0mstg\u001b[0m\u001b[0;34m,\u001b[0m \u001b[0mplr\u001b[0m\u001b[0;34m,\u001b[0m \u001b[0mcp\u001b[0m\u001b[0;34m)\u001b[0m\u001b[0;34m:\u001b[0m\u001b[0;34m\u001b[0m\u001b[0m\n\u001b[0;32m----> 2\u001b[0;31m     \u001b[0mcpways\u001b[0m \u001b[0;34m=\u001b[0m \u001b[0mmovedstage\u001b[0m\u001b[0;34m(\u001b[0m\u001b[0mstg\u001b[0m\u001b[0;34m,\u001b[0m  \u001b[0mcp_simu\u001b[0m\u001b[0;34m(\u001b[0m\u001b[0mstg\u001b[0m\u001b[0;34m,\u001b[0m \u001b[0mplr\u001b[0m\u001b[0;34m,\u001b[0m \u001b[0mcp\u001b[0m\u001b[0;34m)\u001b[0m\u001b[0;34m)\u001b[0m\u001b[0;34m\u001b[0m\u001b[0m\n\u001b[0m\u001b[1;32m      3\u001b[0m     \u001b[0mfinaly_points\u001b[0m \u001b[0;34m=\u001b[0m \u001b[0;34m[\u001b[0m\u001b[0;34m]\u001b[0m\u001b[0;34m\u001b[0m\u001b[0m\n\u001b[1;32m      4\u001b[0m     \u001b[0;32mfor\u001b[0m \u001b[0mi\u001b[0m \u001b[0;32min\u001b[0m \u001b[0mcpways\u001b[0m\u001b[0;34m:\u001b[0m\u001b[0;34m\u001b[0m\u001b[0m\n\u001b[1;32m      5\u001b[0m         \u001b[0mplways\u001b[0m \u001b[0;34m=\u001b[0m \u001b[0mpl_simu\u001b[0m\u001b[0;34m(\u001b[0m\u001b[0mi\u001b[0m\u001b[0;34m[\u001b[0m\u001b[0;36m1\u001b[0m\u001b[0;34m]\u001b[0m\u001b[0;34m,\u001b[0m  \u001b[0mplr\u001b[0m\u001b[0;34m,\u001b[0m \u001b[0mcp\u001b[0m\u001b[0;34m)\u001b[0m\u001b[0;34m\u001b[0m\u001b[0m\n",
      "\u001b[0;31mTypeError\u001b[0m: cp_simu() takes 1 positional argument but 3 were given"
     ]
    }
   ],
   "source": [
    "%time\n",
    "print(\"nextstage\", selectway({0:[1, 0], 2:[0, 1], 5:[2, 0], 3:[0, 2], 1:[1, 2], 6:[2, 2]}, [0, 2, 5], [3, 1, 6]))\n",
    "#print(\"originstage=\", stage)"
   ]
  },
  {
   "cell_type": "code",
   "execution_count": null,
   "metadata": {
    "collapsed": false
   },
   "outputs": [],
   "source": [
    "def decide_tumi():\n",
    "    ways = selectway()"
   ]
  },
  {
   "cell_type": "code",
   "execution_count": null,
   "metadata": {
    "collapsed": true
   },
   "outputs": [],
   "source": [
    "def test():\n",
    "    stein = []\n",
    "    stein.append(1)\n",
    "    return stein"
   ]
  },
  {
   "cell_type": "code",
   "execution_count": null,
   "metadata": {
    "collapsed": false
   },
   "outputs": [],
   "source": [
    "print(test())\n",
    "print(test())"
   ]
  },
  {
   "cell_type": "code",
   "execution_count": null,
   "metadata": {
    "collapsed": true
   },
   "outputs": [],
   "source": [
    "player = [0, 2, 4] #各プレーヤの持ち駒\n",
    "computer = [0, 1, 6]\n",
    "\n",
    "stage = {player[0]:[1, 0],  #player[0] = 0\n",
    "         player[1]:[0, 1],\n",
    "         player[2]:[2, 0],\n",
    "         computer[0]:[0, 2],\n",
    "         computer[1]:[1, 2],\n",
    "         computer[2]:[2, 2]} \n"
   ]
  },
  {
   "cell_type": "code",
   "execution_count": null,
   "metadata": {
    "collapsed": false
   },
   "outputs": [],
   "source": [
    "stage[player[1]]"
   ]
  },
  {
   "cell_type": "code",
   "execution_count": null,
   "metadata": {
    "collapsed": true
   },
   "outputs": [],
   "source": []
  }
 ],
 "metadata": {
  "anaconda-cloud": {},
  "kernelspec": {
   "display_name": "Python [conda root]",
   "language": "python",
   "name": "conda-root-py"
  },
  "language_info": {
   "codemirror_mode": {
    "name": "ipython",
    "version": 3
   },
   "file_extension": ".py",
   "mimetype": "text/x-python",
   "name": "python",
   "nbconvert_exporter": "python",
   "pygments_lexer": "ipython3",
   "version": "3.5.2"
  }
 },
 "nbformat": 4,
 "nbformat_minor": 1
}
